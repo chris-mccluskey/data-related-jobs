{
 "cells": [
  {
   "cell_type": "markdown",
   "metadata": {},
   "source": [
    "---\n",
    "# Data Related Job Descriptions Across 10 Countries\n",
    "\n",
    "This data was scraped from Indeed across 10 countries:\n",
    "\n",
    "- Australia\n",
    "- Canada\n",
    "- France\n",
    "- Hong Kong\n",
    "- Japan\n",
    "- Singapore\n",
    "- South Africa\n",
    "- Switzerland\n",
    "- United Kingdom\n",
    "- United States\n",
    "\n",
    "Three roles were searched within each countries Indeed: \n",
    "\n",
    "- Data Scientist\n",
    "- Data Analyst\n",
    "- Data Engineer\n",
    "---"
   ]
  },
  {
   "cell_type": "code",
   "execution_count": 2,
   "metadata": {},
   "outputs": [
    {
     "ename": "SyntaxError",
     "evalue": "invalid syntax (<ipython-input-2-9407d13140f7>, line 6)",
     "output_type": "error",
     "traceback": [
      "\u001b[0;36m  File \u001b[0;32m\"<ipython-input-2-9407d13140f7>\"\u001b[0;36m, line \u001b[0;32m6\u001b[0m\n\u001b[0;31m    from ./data/word_list import prog_lang, analysis, machine_learning, database, cloud, edu, big_data, lang, other, healthcare, stats\u001b[0m\n\u001b[0m          ^\u001b[0m\n\u001b[0;31mSyntaxError\u001b[0m\u001b[0;31m:\u001b[0m invalid syntax\n"
     ]
    }
   ],
   "source": [
    "import numpy as np\n",
    "import pandas as pd\n",
    "import matplotlib.pyplot as plt\n",
    "from matplotlib import pyplot\n",
    "import seaborn as sns\n",
    "from word_list import prog_lang, analysis, machine_learning, database, cloud, edu, big_data, lang, other, healthcare, stats\n",
    "pd.set_option('display.max_rows', 10000)\n",
    "pd.options.mode.chained_assignment = None"
   ]
  },
  {
   "cell_type": "markdown",
   "metadata": {},
   "source": [
    "---\n",
    "## Importing Word Count Data\n",
    "\n",
    "After the job postings were scrapped each job description was passed through a function counting the instances of predefined words. \n",
    "\n",
    "`skills_role_country_total.csv` contains the word counts across all countries and search terms. \n",
    "\n",
    "Below data frame is filtered based words usually associated with the following categories:\n",
    "- programming languages\n",
    "- Analysis\n",
    "- Machine Learning\n",
    "- Database\n",
    "- Education \n",
    "- Big Data \n",
    "- Languages\n",
    "- Health Care\n",
    "- Math and Statistics\n",
    "\n",
    "Finally grouping by `Search Term` and `Country` creating a function `top_count_by_term_country` that accepts a list of DataFrames returning the `top_n` `NumPostings` per group."
   ]
  },
  {
   "cell_type": "code",
   "execution_count": null,
   "metadata": {},
   "outputs": [],
   "source": [
    "df = pd.read_csv('./job-stats/word-count/skills_role_country_total.csv')"
   ]
  },
  {
   "cell_type": "code",
   "execution_count": null,
   "metadata": {},
   "outputs": [],
   "source": [
    "df.drop(columns='Percentage', inplace=True)"
   ]
  },
  {
   "cell_type": "code",
   "execution_count": null,
   "metadata": {},
   "outputs": [],
   "source": [
    "df_prog_lang = df[df['Word'].isin(prog_lang)].reset_index(drop=True)\n",
    "df_analysis = df[df['Word'].isin(analysis)].reset_index(drop=True)\n",
    "df_machine_learning = df[df['Word'].isin(machine_learning)].reset_index(drop=True)\n",
    "df_database = df[df['Word'].isin(database)].reset_index(drop=True)\n",
    "df_edu = df[df['Word'].isin(edu)].reset_index(drop=True)\n",
    "df_big_data = df[df['Word'].isin(big_data)].reset_index(drop=True)\n",
    "df_lang = df[df['Word'].isin(lang)].reset_index(drop=True)\n",
    "df_healthcare = df[df['Word'].isin(healthcare)].reset_index(drop=True)\n",
    "df_stats = df[df['Word'].isin(stats)].reset_index(drop=True)\n",
    "\n",
    "filtered_skills = [df_prog_lang, df_analysis, df_machine_learning, df_database, df_edu, \n",
    "                  df_big_data, df_lang, df_healthcare, df_stats]"
   ]
  },
  {
   "cell_type": "code",
   "execution_count": null,
   "metadata": {},
   "outputs": [],
   "source": [
    "def top_count_by_term_country(dataframe_list, top_n):\n",
    "    top_list = []\n",
    "    for frame in dataframe_list:\n",
    "        data = frame.groupby(['Search Term', 'Country']).apply(lambda grp: grp.nlargest(top_n, 'NumPostings')).droplevel(level=2)\n",
    "        data = data.drop(columns=['Search Term', 'Country'])\n",
    "        top_list.append(data)\n",
    "    return top_list\n",
    "\n",
    "filtered_df = top_count_by_term_country(filtered_skills, 10)\n",
    "\n",
    "df_prog = filtered_df[0]\n",
    "df_analysis = filtered_df[1]\n",
    "df_ml = filtered_df[2]\n",
    "df_db = filtered_df[3]\n",
    "df_ed = filtered_df[4]\n",
    "df_bd = filtered_df[5]\n",
    "df_la = filtered_df[6]\n",
    "df_hc = filtered_df[7]\n",
    "df_st = filtered_df[8]"
   ]
  },
  {
   "cell_type": "markdown",
   "metadata": {},
   "source": [
    "---\n",
    "## Top 10 counted words per role and country"
   ]
  },
  {
   "cell_type": "code",
   "execution_count": null,
   "metadata": {},
   "outputs": [],
   "source": [
    "top_10 = df.groupby(['Search Term', 'Country']).apply(lambda grp: grp.nlargest(10, 'NumPostings')) \\\n",
    ".droplevel(level=2) \\\n",
    ".drop(columns=['Search Term', 'Country'])\n",
    "\n",
    "top_10"
   ]
  },
  {
   "cell_type": "markdown",
   "metadata": {},
   "source": [
    "---\n",
    "## Top 10 counted words in \"Programming Languages\" phrases"
   ]
  },
  {
   "cell_type": "code",
   "execution_count": null,
   "metadata": {},
   "outputs": [],
   "source": [
    "df_prog"
   ]
  },
  {
   "cell_type": "markdown",
   "metadata": {},
   "source": [
    "---\n",
    "## Top 10 counted words in \"Analysis\" phrases"
   ]
  },
  {
   "cell_type": "code",
   "execution_count": null,
   "metadata": {},
   "outputs": [],
   "source": [
    "df_analysis"
   ]
  },
  {
   "cell_type": "markdown",
   "metadata": {},
   "source": [
    "---\n",
    "## Top 10 counted words in \"Machine Learning\" phrases"
   ]
  },
  {
   "cell_type": "code",
   "execution_count": null,
   "metadata": {},
   "outputs": [],
   "source": [
    "df_ml"
   ]
  },
  {
   "cell_type": "markdown",
   "metadata": {},
   "source": [
    "---\n",
    "## Top 10 counted words in \"Database\" phrases"
   ]
  },
  {
   "cell_type": "code",
   "execution_count": null,
   "metadata": {},
   "outputs": [],
   "source": [
    "df_db"
   ]
  },
  {
   "cell_type": "markdown",
   "metadata": {},
   "source": [
    "---\n",
    "## Top 10 counted words in \"Education\" phrases"
   ]
  },
  {
   "cell_type": "code",
   "execution_count": null,
   "metadata": {},
   "outputs": [],
   "source": [
    "df_ed"
   ]
  },
  {
   "cell_type": "markdown",
   "metadata": {},
   "source": [
    "---\n",
    "## Top 10 counted words in \"Big Data\" phrases"
   ]
  },
  {
   "cell_type": "code",
   "execution_count": null,
   "metadata": {},
   "outputs": [],
   "source": [
    "df_bd"
   ]
  },
  {
   "cell_type": "markdown",
   "metadata": {},
   "source": [
    "---\n",
    "## Top 10 counted words in \"Language\" phrases"
   ]
  },
  {
   "cell_type": "code",
   "execution_count": null,
   "metadata": {},
   "outputs": [],
   "source": [
    "df_la"
   ]
  },
  {
   "cell_type": "markdown",
   "metadata": {},
   "source": [
    "---\n",
    "## Top 10 counted words in \"Health Care\" phrases"
   ]
  },
  {
   "cell_type": "code",
   "execution_count": null,
   "metadata": {},
   "outputs": [],
   "source": [
    "df_hc"
   ]
  },
  {
   "cell_type": "markdown",
   "metadata": {},
   "source": [
    "---\n",
    "## Top 10 counted words in \"Stats\" phrases"
   ]
  },
  {
   "cell_type": "code",
   "execution_count": null,
   "metadata": {},
   "outputs": [],
   "source": [
    "df_st"
   ]
  },
  {
   "cell_type": "markdown",
   "metadata": {},
   "source": [
    "---\n",
    "# Most Counted Terms\n",
    "\n",
    "Most counted terms across all search terms and countries:"
   ]
  },
  {
   "cell_type": "code",
   "execution_count": null,
   "metadata": {},
   "outputs": [],
   "source": [
    "top_terms = df.groupby(['Word'])['NumPostings'].sum().sort_values(ascending=False)"
   ]
  },
  {
   "cell_type": "code",
   "execution_count": null,
   "metadata": {},
   "outputs": [],
   "source": [
    "top_terms.head(300)"
   ]
  },
  {
   "cell_type": "markdown",
   "metadata": {},
   "source": [
    "---\n",
    "# Most Counted Terms Per Group\n",
    "\n",
    "Most counted terms in each job roll, across all 10 countries:"
   ]
  },
  {
   "cell_type": "markdown",
   "metadata": {},
   "source": [
    "---\n",
    "## Most counted terms related to \"Programming Languages\""
   ]
  },
  {
   "cell_type": "code",
   "execution_count": null,
   "metadata": {},
   "outputs": [],
   "source": [
    "df_prog_lang.groupby(['Word'])['NumPostings'].sum().sort_values(ascending=False)"
   ]
  },
  {
   "cell_type": "markdown",
   "metadata": {},
   "source": [
    "---\n",
    "## Most counted terms related to \"Data Analysis\""
   ]
  },
  {
   "cell_type": "code",
   "execution_count": null,
   "metadata": {},
   "outputs": [],
   "source": [
    "df_analysis.groupby(['Word'])['NumPostings'].sum().sort_values(ascending=False)"
   ]
  },
  {
   "cell_type": "markdown",
   "metadata": {},
   "source": [
    "---\n",
    "## Most counted terms related to \"Machine Learning\""
   ]
  },
  {
   "cell_type": "code",
   "execution_count": null,
   "metadata": {},
   "outputs": [],
   "source": [
    "df_machine_learning.groupby(['Word'])['NumPostings'].sum().sort_values(ascending=False)"
   ]
  },
  {
   "cell_type": "markdown",
   "metadata": {},
   "source": [
    "---\n",
    "## Most counted terms related to \"Databases\""
   ]
  },
  {
   "cell_type": "code",
   "execution_count": null,
   "metadata": {},
   "outputs": [],
   "source": [
    "df_database.groupby(['Word'])['NumPostings'].sum().sort_values(ascending=False)"
   ]
  },
  {
   "cell_type": "markdown",
   "metadata": {},
   "source": [
    "---\n",
    "## Most counted terms related to \"Education\""
   ]
  },
  {
   "cell_type": "code",
   "execution_count": null,
   "metadata": {},
   "outputs": [],
   "source": [
    "df_edu.groupby(['Word'])['NumPostings'].sum().sort_values(ascending=False)"
   ]
  },
  {
   "cell_type": "markdown",
   "metadata": {},
   "source": [
    "---\n",
    "## Most counted terms related to \"Big Data\""
   ]
  },
  {
   "cell_type": "code",
   "execution_count": null,
   "metadata": {},
   "outputs": [],
   "source": [
    "df_big_data.groupby(['Word'])['NumPostings'].sum().sort_values(ascending=False)"
   ]
  },
  {
   "cell_type": "markdown",
   "metadata": {},
   "source": [
    "---\n",
    "## Most counted terms related to \"Human Languages\""
   ]
  },
  {
   "cell_type": "code",
   "execution_count": null,
   "metadata": {},
   "outputs": [],
   "source": [
    "df_lang.groupby(['Word'])['NumPostings'].sum().sort_values(ascending=False)"
   ]
  },
  {
   "cell_type": "markdown",
   "metadata": {},
   "source": [
    "---\n",
    "## Most counted terms related to \"Health Care\""
   ]
  },
  {
   "cell_type": "code",
   "execution_count": null,
   "metadata": {},
   "outputs": [],
   "source": [
    "df_healthcare.groupby(['Word'])['NumPostings'].sum().sort_values(ascending=False)"
   ]
  },
  {
   "cell_type": "markdown",
   "metadata": {},
   "source": [
    "---\n",
    "## Most counted terms related to \"Math / Statistics / Probability\""
   ]
  },
  {
   "cell_type": "code",
   "execution_count": null,
   "metadata": {},
   "outputs": [],
   "source": [
    "df_stats.groupby(['Word'])['NumPostings'].sum().sort_values(ascending=False)"
   ]
  },
  {
   "cell_type": "markdown",
   "metadata": {},
   "source": [
    "---\n",
    "# Word Count Exploration\n",
    "\n"
   ]
  },
  {
   "cell_type": "code",
   "execution_count": null,
   "metadata": {},
   "outputs": [],
   "source": [
    "top_terms['Analytical'] += top_terms['Analytics']"
   ]
  },
  {
   "cell_type": "code",
   "execution_count": null,
   "metadata": {},
   "outputs": [],
   "source": [
    "top_terms.drop('Analytics', inplace=True)"
   ]
  },
  {
   "cell_type": "code",
   "execution_count": null,
   "metadata": {},
   "outputs": [],
   "source": [
    "top_10_words = list(top_terms.head(10).index)\n",
    "top_10_words"
   ]
  },
  {
   "cell_type": "code",
   "execution_count": null,
   "metadata": {},
   "outputs": [],
   "source": [
    "df_top_10 = df[df['Word'].isin(top_20_words)]\n",
    "df_top_10"
   ]
  },
  {
   "cell_type": "code",
   "execution_count": null,
   "metadata": {},
   "outputs": [],
   "source": [
    "plt.figure(figsize=(20, 10))\n",
    "sns.scatterplot(data=df_top_10.sort_values(by='NumPostings'), x=\"Word\", y=\"Country\", hue=\"NumPostings\", size='NumPostings', sizes=(200, 2000))"
   ]
  },
  {
   "cell_type": "code",
   "execution_count": null,
   "metadata": {},
   "outputs": [],
   "source": []
  }
 ],
 "metadata": {
  "kernelspec": {
   "display_name": "Python 3",
   "language": "python",
   "name": "python3"
  },
  "language_info": {
   "codemirror_mode": {
    "name": "ipython",
    "version": 3
   },
   "file_extension": ".py",
   "mimetype": "text/x-python",
   "name": "python",
   "nbconvert_exporter": "python",
   "pygments_lexer": "ipython3",
   "version": "3.7.8"
  }
 },
 "nbformat": 4,
 "nbformat_minor": 4
}
