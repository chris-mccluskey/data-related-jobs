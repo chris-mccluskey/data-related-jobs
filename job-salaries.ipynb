{
 "cells": [
  {
   "cell_type": "markdown",
   "metadata": {},
   "source": [
    "---\n",
    "# Job Posting Salary Exploration\n",
    "\n",
    "This data was scraped from Indeed across 10 countries:\n",
    "\n",
    "- Australia\n",
    "- Canada\n",
    "- France\n",
    "- Hong Kong\n",
    "- Japan\n",
    "- Singapore\n",
    "- South Africa\n",
    "- Switzerland\n",
    "- United Kingdom\n",
    "- United States\n",
    "\n",
    "Three roles were searched within each countries Indeed: \n",
    "\n",
    "- Data Scientist\n",
    "- Data Analyst\n",
    "- Data Engineer\n",
    "---"
   ]
  },
  {
   "cell_type": "code",
   "execution_count": 1,
   "metadata": {},
   "outputs": [],
   "source": [
    "import numpy as np\n",
    "import pandas as pd\n",
    "import matplotlib.pyplot as plt\n",
    "from matplotlib import pyplot\n",
    "import seaborn as sns\n",
    "pd.options.mode.chained_assignment = None"
   ]
  },
  {
   "cell_type": "code",
   "execution_count": 2,
   "metadata": {},
   "outputs": [],
   "source": [
    "# Data Scientist \n",
    "ds = pd.read_csv('./data/ds_all_countries.csv')\n",
    "# Data Analyst\n",
    "da = pd.read_csv('./data/da_all_countries.csv')\n",
    "# Data Engineer\n",
    "de = pd.read_csv('./data/de_all_countries.csv')"
   ]
  },
  {
   "cell_type": "markdown",
   "metadata": {},
   "source": [
    "--------\n",
    "## Data Scientist Salaries\n",
    "\n",
    "Drop unnecessary columns and filter `Title` to separate \"Data Scientist\" roles from \"Senior\" and \"Analyst\" roles.\n",
    "\n",
    "*Considering \"Machine Learning Engineer\" equivalent to \"Data Scientist\"*"
   ]
  },
  {
   "cell_type": "code",
   "execution_count": 3,
   "metadata": {},
   "outputs": [
    {
     "data": {
      "text/plain": [
       "(2456, 6)"
      ]
     },
     "execution_count": 3,
     "metadata": {},
     "output_type": "execute_result"
    }
   ],
   "source": [
    "# Dropping the Link (link to job posting) and Description columns\n",
    "ds = ds.drop(columns=['Link', 'Description'])\n",
    "ds.shape"
   ]
  },
  {
   "cell_type": "code",
   "execution_count": 4,
   "metadata": {},
   "outputs": [],
   "source": [
    "ds['Title'] = ds['Title'].str.lower()\n",
    "\n",
    "find = ['data scientist', 'machine', 'deep']\n",
    "\n",
    "dont_find = ['senior', 'snr', 'sr.', 'intern']\n",
    "\n",
    "senior_find = ['senior', 'snr', 'sr.']\n",
    "\n",
    "intern_find = ['intern']\n",
    "\n",
    "ana_find = ['analyst']\n",
    "\n",
    "\n",
    "# All titles with 'data scientist', 'machine'\n",
    "data_sci_mach = ds[ds['Title'].str.contains('|'.join(find), na=False)].reset_index(drop=True)\n",
    "\n",
    "# All regular data scientists\n",
    "data_sci = data_sci_mach[~data_sci_mach['Title'].str.contains('|'.join(dont_find))].reset_index(drop=True)\n",
    "\n",
    "# All Senior data scientists\n",
    "senior = data_sci_mach[data_sci_mach['Title'].str.contains('|'.join(senior_find))].reset_index(drop=True)\n",
    "\n",
    "# All intern positions \n",
    "intern = data_sci_mach[data_sci_mach['Title'].str.contains('|'.join(intern_find))].reset_index(drop=True)\n",
    "\n",
    "# All analyst positions\n",
    "ana = data_sci_mach[data_sci_mach['Title'].str.contains('|'.join(ana_find))].reset_index(drop=True)"
   ]
  },
  {
   "cell_type": "markdown",
   "metadata": {},
   "source": [
    "---------------------------------------------------\n",
    "# Convert all Salaries to USD \n",
    "\n",
    "Converting at current exchange rate November 2020.\n",
    "\n",
    "Rounded to nearest $5k USD.\n",
    "\n",
    "Hourly wages multiplied by 2080 (40/hrs per week for 52 weeks).\n",
    "\n",
    "if `Salary` ranges provided in a cell, the averaged of the two was used."
   ]
  },
  {
   "cell_type": "code",
   "execution_count": 5,
   "metadata": {},
   "outputs": [],
   "source": [
    "# Function to clean the `Salary` column and prepare for type casting to `int` type\n",
    "def clean_salaries(data_f, country):\n",
    "    series = data_f[data_f['Country'] == country]['Salary'].str.replace('year', '') \\\n",
    "    .str.replace('pro Jahr', '') \\\n",
    "    .str.replace('  ', '-').str.replace(' ', '') \\\n",
    "    .str.replace('-', ' ').str.replace('~', '') \\\n",
    "    .str.replace('$', \"\").str.replace('an', '') \\\n",
    "    .str.replace('hour', '').str.replace('day', '') \\\n",
    "    .str.replace('€', '').str.replace('par', '') \\\n",
    "    .str.replace('mois', '').str.replace('jour', '') \\\n",
    "    .str.replace('month', '').str.replace('年収', '') \\\n",
    "    .str.replace('万', '').str.replace('円', '') \\\n",
    "    .str.replace('R', '').str.replace('£', '') \\\n",
    "    .str.replace('From', '').str.replace('Upto', '') \\\n",
    "    .str.replace('semaine', '').str.replace('heure', '') \\\n",
    "    .str.replace('CHF', '') \\\n",
    "    .str.replace(\"'\", '') \\\n",
    "    .str.replace(',', '') .str.replace('a', '').str.strip().reset_index(drop=True)\n",
    "\n",
    "    return series"
   ]
  },
  {
   "cell_type": "code",
   "execution_count": 6,
   "metadata": {},
   "outputs": [],
   "source": [
    "# Convert `Salary` values to USD and annual salary\n",
    "def exchange_rate(seri, rate):\n",
    "    # Splits the salaries\n",
    "    seri = seri.split()\n",
    "    \n",
    "    # If there is more than 1 salary in the cell\n",
    "    if len(seri) > 1:\n",
    "        # Average them times the exchange rate\n",
    "        series = ((int(float(seri[0])) + int(float(seri[1]))) / 2) * rate\n",
    "        \n",
    "    else: \n",
    "    # Round to nearest 5k\n",
    "        series = int(float(seri[0])) * rate\n",
    "    \n",
    "    # If the Salary is greater than 4 digits, cosnider it a true salary value\n",
    "    if len(str(int(series))) > 4:\n",
    "        # Round to nearest 5k\n",
    "        return round(float(series) / 5000) * 5000\n",
    "    \n",
    "    # Monthly pay\n",
    "    elif len(str(int(series))) == 4:\n",
    "        return round(float(series * 12) / 5000) * 5000\n",
    "    \n",
    "    # Dayly pay \n",
    "    elif len(str(int(series))) == 3:\n",
    "        return round(float(series * 262) / 5000) * 5000\n",
    "    \n",
    "    # Hourly\n",
    "    else:\n",
    "        # Else salary is less than 4 digits, cosnider it hourly \n",
    "        # Multiply by 2080 (full time hours per year) round to nearest 5k\n",
    "        return round(float(series * 2080) / 5000) * 5000"
   ]
  },
  {
   "cell_type": "code",
   "execution_count": 7,
   "metadata": {},
   "outputs": [],
   "source": [
    "# Function to execute `clean_salaries` and `exchange_rate` functions\n",
    "def clean_exchange(data_frame, country, rate):\n",
    "    x = clean_salaries(data_frame, country)\n",
    "    return x.apply(exchange_rate, rate=rate).values"
   ]
  },
  {
   "cell_type": "markdown",
   "metadata": {},
   "source": [
    "---\n",
    "## Cleaning / Converting `Salary` Data to Annual USD Salaries\n",
    "\n",
    "Filtering the job data for only postings with salaries present.\n",
    "\n",
    "Cleaning and converting for each country into USD / annual salaries using the above functions"
   ]
  },
  {
   "cell_type": "code",
   "execution_count": 8,
   "metadata": {},
   "outputs": [
    {
     "data": {
      "text/html": [
       "<div>\n",
       "<style scoped>\n",
       "    .dataframe tbody tr th:only-of-type {\n",
       "        vertical-align: middle;\n",
       "    }\n",
       "\n",
       "    .dataframe tbody tr th {\n",
       "        vertical-align: top;\n",
       "    }\n",
       "\n",
       "    .dataframe thead th {\n",
       "        text-align: right;\n",
       "    }\n",
       "</style>\n",
       "<table border=\"1\" class=\"dataframe\">\n",
       "  <thead>\n",
       "    <tr style=\"text-align: right;\">\n",
       "      <th></th>\n",
       "      <th>Title</th>\n",
       "      <th>Company</th>\n",
       "      <th>Location</th>\n",
       "      <th>Review</th>\n",
       "      <th>Salary</th>\n",
       "      <th>Country</th>\n",
       "    </tr>\n",
       "  </thead>\n",
       "  <tbody>\n",
       "    <tr>\n",
       "      <th>0</th>\n",
       "      <td>data scientist</td>\n",
       "      <td>Department of Justice and Community Safety</td>\n",
       "      <td>Melbourne City Centre VIC</td>\n",
       "      <td>3.4</td>\n",
       "      <td>$122,502 - $163,934 a year</td>\n",
       "      <td>AUS</td>\n",
       "    </tr>\n",
       "    <tr>\n",
       "      <th>3</th>\n",
       "      <td>data scientist</td>\n",
       "      <td>Reo Group</td>\n",
       "      <td>Sydney Western Suburbs NSW</td>\n",
       "      <td>None</td>\n",
       "      <td>$140,000 - $170,000 a year</td>\n",
       "      <td>AUS</td>\n",
       "    </tr>\n",
       "    <tr>\n",
       "      <th>6</th>\n",
       "      <td>machine learning technical lead</td>\n",
       "      <td>Ignite Specialist Recruitment Services</td>\n",
       "      <td>Canberra ACT</td>\n",
       "      <td>3.5</td>\n",
       "      <td>$120 - $130 an hour</td>\n",
       "      <td>AUS</td>\n",
       "    </tr>\n",
       "    <tr>\n",
       "      <th>7</th>\n",
       "      <td>developer - machine learning</td>\n",
       "      <td>Hudson</td>\n",
       "      <td>Brisbane QLD</td>\n",
       "      <td>3.1</td>\n",
       "      <td>$90,000 - $93,000 a year</td>\n",
       "      <td>AUS</td>\n",
       "    </tr>\n",
       "    <tr>\n",
       "      <th>11</th>\n",
       "      <td>data scientist</td>\n",
       "      <td>FourQuarters</td>\n",
       "      <td>Melbourne VIC</td>\n",
       "      <td>None</td>\n",
       "      <td>$90,000 - $130,000 a year</td>\n",
       "      <td>AUS</td>\n",
       "    </tr>\n",
       "  </tbody>\n",
       "</table>\n",
       "</div>"
      ],
      "text/plain": [
       "                              Title  \\\n",
       "0                    data scientist   \n",
       "3                    data scientist   \n",
       "6   machine learning technical lead   \n",
       "7      developer - machine learning   \n",
       "11                   data scientist   \n",
       "\n",
       "                                       Company                    Location  \\\n",
       "0   Department of Justice and Community Safety   Melbourne City Centre VIC   \n",
       "3                                    Reo Group  Sydney Western Suburbs NSW   \n",
       "6       Ignite Specialist Recruitment Services                Canberra ACT   \n",
       "7                                       Hudson                Brisbane QLD   \n",
       "11                                FourQuarters               Melbourne VIC   \n",
       "\n",
       "   Review                      Salary Country  \n",
       "0     3.4  $122,502 - $163,934 a year     AUS  \n",
       "3    None  $140,000 - $170,000 a year     AUS  \n",
       "6     3.5         $120 - $130 an hour     AUS  \n",
       "7     3.1    $90,000 - $93,000 a year     AUS  \n",
       "11   None   $90,000 - $130,000 a year     AUS  "
      ]
     },
     "execution_count": 8,
     "metadata": {},
     "output_type": "execute_result"
    }
   ],
   "source": [
    "data_sci_sal = data_sci[~data_sci['Salary'].str.contains('None')]\n",
    "data_sci_sal.head()"
   ]
  },
  {
   "cell_type": "code",
   "execution_count": 9,
   "metadata": {},
   "outputs": [],
   "source": [
    "# Cleaning and converting the `Salary` column per country\n",
    "au = clean_exchange(data_sci_sal, 'AUS', 0.73)\n",
    "can = clean_exchange(data_sci_sal, 'CAN', 0.77)\n",
    "ch = clean_exchange(data_sci_sal, 'CH', 1.10)\n",
    "fr = clean_exchange(data_sci_sal, 'FR', 1.19)\n",
    "hk = clean_exchange(data_sci_sal, 'HK', 0.13)\n",
    "sa = clean_exchange(data_sci_sal, 'SA', 0.065)\n",
    "sg = clean_exchange(data_sci_sal, 'SG', 0.75)\n",
    "uk = clean_exchange(data_sci_sal, 'UK', 1.33)\n",
    "usa = clean_exchange(data_sci_sal, 'USA', 1)"
   ]
  },
  {
   "cell_type": "code",
   "execution_count": 10,
   "metadata": {},
   "outputs": [],
   "source": [
    "# Assigning converted `Salary` to the original DataFrame\n",
    "data_sci_sal.loc[data_sci_sal.Country == 'AUS', 'USD Salary'] = au\n",
    "data_sci_sal.loc[data_sci_sal.Country == 'CAN', 'USD Salary'] = can\n",
    "data_sci_sal.loc[data_sci_sal.Country == 'CH', 'USD Salary'] = ch\n",
    "data_sci_sal.loc[data_sci_sal.Country == 'FR', 'USD Salary'] = fr\n",
    "data_sci_sal.loc[data_sci_sal.Country == 'HK', 'USD Salary'] = hk\n",
    "data_sci_sal.loc[data_sci_sal.Country == 'SA', 'USD Salary'] = sa\n",
    "data_sci_sal.loc[data_sci_sal.Country == 'SG', 'USD Salary'] = sg\n",
    "data_sci_sal.loc[data_sci_sal.Country == 'UK', 'USD Salary'] = uk\n",
    "data_sci_sal.loc[data_sci_sal.Country == 'USA', 'USD Salary'] = usa\n",
    "\n",
    "data_sci_sal.loc[data_sci_sal.Country == 'JP', 'USD Salary'] = data_sci_sal.loc[data_sci_sal.Country == 'JP', 'Salary'].replace({'年収 400万 ~ 900万円': '65000',\n",
    "                                                                  '年収 1,310万 ~ 1,572万円': '140000',\n",
    "                                                                  '年収 600万 ~ 1,000万円': '75000',\n",
    "                                                                  '年収 1,000万 ~ 2,000万円': '145000',\n",
    "                                                                  '年収 1,123万 ~ 1,460万円': '125000',\n",
    "                                                                  '年収 1,000万 ~ 1,500万円': '120000',\n",
    "                                                                  '年収 510万 ~ 1,200万円': '80000',\n",
    "                                                                  '年収 800万 ~ 1,500万円': '150000',\n",
    "                                                                  '年収 700万 ~ 1,000万円': '115000',\n",
    "                                                                  '年収 1,920万 ~ 2,362万円': '205000',\n",
    "                                                                  '年収 600万 ~ 1,500万円': '130000',\n",
    "                                                                  '年収 800万 ~ 1,200万円': '95000',\n",
    "                                                                  '年収 600万 ~ 2,000万円': '125000'\n",
    "                                                                 })"
   ]
  },
  {
   "cell_type": "code",
   "execution_count": 11,
   "metadata": {},
   "outputs": [],
   "source": [
    "# Convert to integer type\n",
    "data_sci_sal['USD Salary'] = data_sci_sal['USD Salary'].astype(int)"
   ]
  },
  {
   "cell_type": "markdown",
   "metadata": {},
   "source": [
    "---\n",
    "# Average Salary for Data Scientist \n",
    "\n",
    "Average salary for \"Data Scientist\" role per country, with confidence interval.\n",
    "\n",
    "Blue horizontal line across the bar plot represents the average salary across all job postings."
   ]
  },
  {
   "cell_type": "code",
   "execution_count": 12,
   "metadata": {},
   "outputs": [],
   "source": [
    "order_country = list(data_sci_sal.groupby('Country')['USD Salary'].mean().sort_values(ascending=False).index)"
   ]
  },
  {
   "cell_type": "code",
   "execution_count": 13,
   "metadata": {},
   "outputs": [
    {
     "data": {
      "image/png": "[encoded data removed]",
      "text/plain": [
       "<Figure size 720x720 with 1 Axes>"
      ]
     },
     "metadata": {
      "needs_background": "light"
     },
     "output_type": "display_data"
    }
   ],
   "source": [
    "g = sns.catplot(\n",
    "    data=data_sci_sal, kind=\"bar\",\n",
    "    x=\"Country\", y=\"USD Salary\", order=order_country,\n",
    "    palette=\"dark\", alpha=.6, height=10)\n",
    "axes = g.axes.flatten()\n",
    "axes[0].axhline(data_sci_sal['USD Salary'].mean(), ls='-', color='b');"
   ]
  },
  {
   "cell_type": "markdown",
   "metadata": {},
   "source": [
    "---\n",
    "## Data Analyst Salaries\n",
    "\n",
    "Drop unnecessary columns and filter `Title` to separate \"Data Analyst\" roles from \"Senior\" and \"Analyst\" roles.\n",
    "\n",
    "*Considering \"Machine Learning Engineer\" equivalent to \"Data Analyst\"*"
   ]
  },
  {
   "cell_type": "code",
   "execution_count": 14,
   "metadata": {},
   "outputs": [
    {
     "data": {
      "text/plain": [
       "(3280, 6)"
      ]
     },
     "execution_count": 14,
     "metadata": {},
     "output_type": "execute_result"
    }
   ],
   "source": [
    "# Dropping the Link (link to job posting) and Description columns\n",
    "da = da.drop(columns=['Link', 'Description'])\n",
    "da.shape"
   ]
  },
  {
   "cell_type": "code",
   "execution_count": 15,
   "metadata": {},
   "outputs": [
    {
     "data": {
      "text/plain": [
       "(3250, 6)"
      ]
     },
     "execution_count": 15,
     "metadata": {},
     "output_type": "execute_result"
    }
   ],
   "source": [
    "# Drop duplicate observations\n",
    "da = da.drop_duplicates(ignore_index=False)\n",
    "da.shape"
   ]
  },
  {
   "cell_type": "code",
   "execution_count": 16,
   "metadata": {},
   "outputs": [],
   "source": [
    "da['Title'] = da['Title'].str.lower()\n",
    "\n",
    "find = ['data analyst', 'machine', 'deep']\n",
    "\n",
    "\n",
    "# All titles with 'data scientist', 'machine'\n",
    "data_ana = da[da['Title'].str.contains('|'.join(find),na=False)].reset_index(drop=True)"
   ]
  },
  {
   "cell_type": "markdown",
   "metadata": {},
   "source": [
    "---\n",
    "## Cleaning / Converting `Salary` Data to Annual USD Salaries for Data Analyst\n",
    "\n",
    "Filtering the job data for only postings with salaries present.\n",
    "\n",
    "Cleaning and converting for each country into USD / annual salaries using the above functions"
   ]
  },
  {
   "cell_type": "code",
   "execution_count": 17,
   "metadata": {},
   "outputs": [],
   "source": [
    "data_ana_sal = data_ana[~data_ana['Salary'].str.contains('None')]"
   ]
  },
  {
   "cell_type": "code",
   "execution_count": 18,
   "metadata": {},
   "outputs": [],
   "source": [
    "# Cleaning and converting the `Salary` column per country\n",
    "au = clean_exchange(data_ana_sal, 'AUS', 0.73)\n",
    "can = clean_exchange(data_ana_sal, 'CAN', 0.77)\n",
    "ch = clean_exchange(data_ana_sal, 'CH', 1.10)\n",
    "fr = clean_exchange(data_ana_sal, 'FR', 1.19)\n",
    "hk = clean_exchange(data_ana_sal, 'HK', 0.13)\n",
    "sa = clean_exchange(data_ana_sal, 'SA', 0.065)\n",
    "sg = clean_exchange(data_ana_sal, 'SG', 0.75)\n",
    "uk = clean_exchange(data_ana_sal, 'UK', 1.33)\n",
    "usa = clean_exchange(data_ana_sal, 'USA', 1)"
   ]
  },
  {
   "cell_type": "code",
   "execution_count": 19,
   "metadata": {},
   "outputs": [],
   "source": [
    "# Assigning converted `Salary` to the original DataFrame\n",
    "data_ana_sal.loc[data_ana_sal.Country == 'AUS', 'USD Salary'] = au\n",
    "data_ana_sal.loc[data_ana_sal.Country == 'CAN', 'USD Salary'] = can\n",
    "data_ana_sal.loc[data_ana_sal.Country == 'CH', 'USD Salary'] = ch\n",
    "data_ana_sal.loc[data_ana_sal.Country == 'FR', 'USD Salary'] = fr\n",
    "data_ana_sal.loc[data_ana_sal.Country == 'HK', 'USD Salary'] = hk\n",
    "data_ana_sal.loc[data_ana_sal.Country == 'SA', 'USD Salary'] = sa\n",
    "data_ana_sal.loc[data_ana_sal.Country == 'SG', 'USD Salary'] = sg\n",
    "data_ana_sal.loc[data_ana_sal.Country == 'UK', 'USD Salary'] = uk\n",
    "data_ana_sal.loc[data_ana_sal.Country == 'USA', 'USD Salary'] = usa"
   ]
  },
  {
   "cell_type": "code",
   "execution_count": 20,
   "metadata": {},
   "outputs": [],
   "source": [
    "data_ana_sal.loc[data_ana_sal.Country == 'JP', 'USD Salary'] = data_ana_sal.loc[data_ana_sal.Country == 'JP', 'Salary'].replace({'年収 400万 ~ 500万円': '45000',\n",
    "                                                                  '年収 500万 ~ 900万円': '65000',\n",
    "                                                                  '年収 500万 ~ 700万円': '45000',\n",
    "                                                                  '年収 400万 ~ 1,500万円': '90000',\n",
    "                                                                  '年収 600万 ~ 1,000万円': '75000'\n",
    "                                                                  })"
   ]
  },
  {
   "cell_type": "code",
   "execution_count": 21,
   "metadata": {},
   "outputs": [],
   "source": [
    "# Convert to integer type\n",
    "data_ana_sal['USD Salary'] = data_ana_sal['USD Salary'].astype(int)"
   ]
  },
  {
   "cell_type": "code",
   "execution_count": 22,
   "metadata": {},
   "outputs": [],
   "source": [
    "order_country_ana = list(data_ana_sal.groupby('Country')['USD Salary'].mean().sort_values(ascending=False).index)"
   ]
  },
  {
   "cell_type": "code",
   "execution_count": 23,
   "metadata": {},
   "outputs": [
    {
     "data": {
      "image/png": "[encoded data removed]",
      "text/plain": [
       "<Figure size 720x720 with 1 Axes>"
      ]
     },
     "metadata": {
      "needs_background": "light"
     },
     "output_type": "display_data"
    }
   ],
   "source": [
    "g = sns.catplot(\n",
    "    data=data_ana_sal, kind=\"bar\",\n",
    "    x=\"Country\", y=\"USD Salary\", order=order_country_ana,\n",
    "    palette=\"dark\", alpha=.6, height=10)\n",
    "axes = g.axes.flatten()\n",
    "axes[0].axhline(data_ana_sal['USD Salary'].mean(), ls='-', color='b');"
   ]
  },
  {
   "cell_type": "markdown",
   "metadata": {},
   "source": [
    "---\n",
    "## Data Engineer Salaries"
   ]
  },
  {
   "cell_type": "code",
   "execution_count": 24,
   "metadata": {},
   "outputs": [],
   "source": [
    "# Dropping the Link (link to job posting) and Description columns\n",
    "de = de.drop(columns=['Link', 'Description'])"
   ]
  },
  {
   "cell_type": "code",
   "execution_count": 25,
   "metadata": {},
   "outputs": [],
   "source": [
    "de['Title'] = de['Title'].str.lower()\n",
    "\n",
    "find = ['data engineer', 'data', 'machine', 'deep']\n",
    "\n",
    "# All titles with 'data scientist', 'machine'\n",
    "data_eng = de[de['Title'].str.contains('|'.join(find),na=False)].reset_index(drop=True)"
   ]
  },
  {
   "cell_type": "code",
   "execution_count": 26,
   "metadata": {},
   "outputs": [],
   "source": [
    "data_eng_sal = data_eng[~data_eng['Salary'].str.contains('None')]"
   ]
  },
  {
   "cell_type": "code",
   "execution_count": 27,
   "metadata": {},
   "outputs": [],
   "source": [
    "# Cleaning and converting the `Salary` column per country\n",
    "au = clean_exchange(data_eng_sal, 'AUS', 0.73)\n",
    "can = clean_exchange(data_eng_sal, 'CAN', 0.77)\n",
    "ch = clean_exchange(data_eng_sal, 'CH', 1.10)\n",
    "fr = clean_exchange(data_eng_sal, 'FR', 1.19)\n",
    "hk = clean_exchange(data_eng_sal, 'HK', 0.13)\n",
    "sa = clean_exchange(data_eng_sal, 'SA', 0.065)\n",
    "sg = clean_exchange(data_eng_sal, 'SG', 0.75)\n",
    "uk = clean_exchange(data_eng_sal, 'UK', 1.33)\n",
    "usa = clean_exchange(data_eng_sal, 'USA', 1)"
   ]
  },
  {
   "cell_type": "code",
   "execution_count": 28,
   "metadata": {},
   "outputs": [],
   "source": [
    "# Assigning converted `Salary` to the original DataFrame\n",
    "data_eng_sal.loc[data_eng_sal.Country == 'AUS', 'USD Salary'] = au\n",
    "data_eng_sal.loc[data_eng_sal.Country == 'CAN', 'USD Salary'] = can\n",
    "data_eng_sal.loc[data_eng_sal.Country == 'CH', 'USD Salary'] = ch\n",
    "data_eng_sal.loc[data_eng_sal.Country == 'FR', 'USD Salary'] = fr\n",
    "data_eng_sal.loc[data_eng_sal.Country == 'HK', 'USD Salary'] = hk\n",
    "data_eng_sal.loc[data_eng_sal.Country == 'SA', 'USD Salary'] = sa\n",
    "data_eng_sal.loc[data_eng_sal.Country == 'SG', 'USD Salary'] = sg\n",
    "data_eng_sal.loc[data_eng_sal.Country == 'UK', 'USD Salary'] = uk\n",
    "data_eng_sal.loc[data_eng_sal.Country == 'USA', 'USD Salary'] = usa"
   ]
  },
  {
   "cell_type": "code",
   "execution_count": 29,
   "metadata": {},
   "outputs": [],
   "source": [
    "data_eng_sal.loc[data_eng_sal.Country == 'JP', 'USD Salary'] = data_eng_sal.loc[data_eng_sal.Country == 'JP', 'Salary'].replace({\n",
    "                                                                  '年収 400万 ~ 1,500万円': '90000',\n",
    "                                                                  '年収 1,310万 ~ 1,572万円': '140000',\n",
    "                                                                  '年収 600万 ~ 1,000万円': '75000',\n",
    "                                                                  '年収 1,920万 ~ 2,362万円': '205000',\n",
    "                                                                  '年収 600万 ~ 900万円': '70000',\n",
    "                                                                  '年収 400万 ~ 600万円': '50000',\n",
    "                                                                  '年収 1,000万円': '95000'\n",
    "    \n",
    "                                                                  })"
   ]
  },
  {
   "cell_type": "code",
   "execution_count": 30,
   "metadata": {},
   "outputs": [],
   "source": [
    "# Convert to integer type\n",
    "data_eng_sal['USD Salary'] = data_eng_sal['USD Salary'].astype(int)"
   ]
  },
  {
   "cell_type": "code",
   "execution_count": 31,
   "metadata": {},
   "outputs": [],
   "source": [
    "order_country_eng = list(data_eng_sal.groupby('Country')['USD Salary'].mean().sort_values(ascending=False).index)"
   ]
  },
  {
   "cell_type": "code",
   "execution_count": 32,
   "metadata": {},
   "outputs": [
    {
     "data": {
      "image/png": "[encoded data removed]",
      "text/plain": [
       "<Figure size 720x720 with 1 Axes>"
      ]
     },
     "metadata": {
      "needs_background": "light"
     },
     "output_type": "display_data"
    }
   ],
   "source": [
    "g = sns.catplot(\n",
    "    data=data_eng_sal, kind=\"bar\",\n",
    "    x=\"Country\", y=\"USD Salary\", order=order_country_eng,\n",
    "    palette=\"dark\", alpha=.6, height=10)\n",
    "axes = g.axes.flatten()\n",
    "axes[0].axhline(data_eng_sal['USD Salary'].mean(), ls='-', color='b');"
   ]
  },
  {
   "cell_type": "code",
   "execution_count": 33,
   "metadata": {},
   "outputs": [
    {
     "data": {
      "image/png": "[encoded data removed]",
      "text/plain": [
       "<Figure size 864x864 with 1 Axes>"
      ]
     },
     "metadata": {
      "needs_background": "light"
     },
     "output_type": "display_data"
    }
   ],
   "source": [
    "s = sns.displot(data_sci_sal['USD Salary'], kde=True);\n",
    "s.fig.set_size_inches(12,12)"
   ]
  },
  {
   "cell_type": "code",
   "execution_count": 34,
   "metadata": {},
   "outputs": [
    {
     "data": {
      "image/png": "[encoded data removed]",
      "text/plain": [
       "<Figure size 864x864 with 1 Axes>"
      ]
     },
     "metadata": {
      "needs_background": "light"
     },
     "output_type": "display_data"
    }
   ],
   "source": [
    "a = sns.displot(data_ana_sal['USD Salary'], kde=True);\n",
    "a.fig.set_size_inches(12,12)"
   ]
  },
  {
   "cell_type": "code",
   "execution_count": 35,
   "metadata": {},
   "outputs": [
    {
     "data": {
      "image/png": "[encoded data removed]",
      "text/plain": [
       "<Figure size 864x864 with 1 Axes>"
      ]
     },
     "metadata": {
      "needs_background": "light"
     },
     "output_type": "display_data"
    }
   ],
   "source": [
    "e = sns.displot(data_eng_sal['USD Salary'], kde=True);\n",
    "e.fig.set_size_inches(12,12)"
   ]
  },
  {
   "cell_type": "code",
   "execution_count": 36,
   "metadata": {},
   "outputs": [
    {
     "data": {
      "text/html": [
       "<div>\n",
       "<style scoped>\n",
       "    .dataframe tbody tr th:only-of-type {\n",
       "        vertical-align: middle;\n",
       "    }\n",
       "\n",
       "    .dataframe tbody tr th {\n",
       "        vertical-align: top;\n",
       "    }\n",
       "\n",
       "    .dataframe thead th {\n",
       "        text-align: right;\n",
       "    }\n",
       "</style>\n",
       "<table border=\"1\" class=\"dataframe\">\n",
       "  <thead>\n",
       "    <tr style=\"text-align: right;\">\n",
       "      <th></th>\n",
       "      <th>Title</th>\n",
       "      <th>Company</th>\n",
       "      <th>Location</th>\n",
       "      <th>Review</th>\n",
       "      <th>Salary</th>\n",
       "      <th>Country</th>\n",
       "      <th>USD Salary</th>\n",
       "    </tr>\n",
       "  </thead>\n",
       "  <tbody>\n",
       "    <tr>\n",
       "      <th>258</th>\n",
       "      <td>principal machine learning engineer - ca...</td>\n",
       "      <td>Indeed</td>\n",
       "      <td>東京都</td>\n",
       "      <td>4.3</td>\n",
       "      <td>年収 1,920万 ~ 2,362万円</td>\n",
       "      <td>JP</td>\n",
       "      <td>205000</td>\n",
       "    </tr>\n",
       "  </tbody>\n",
       "</table>\n",
       "</div>"
      ],
      "text/plain": [
       "                                           Title Company Location Review  \\\n",
       "258  principal machine learning engineer - ca...  Indeed      東京都    4.3   \n",
       "\n",
       "                  Salary Country  USD Salary  \n",
       "258  年収 1,920万 ~ 2,362万円      JP      205000  "
      ]
     },
     "execution_count": 36,
     "metadata": {},
     "output_type": "execute_result"
    }
   ],
   "source": [
    "data_eng_sal[data_eng_sal['USD Salary'] > 150000]"
   ]
  },
  {
   "cell_type": "code",
   "execution_count": null,
   "metadata": {},
   "outputs": [],
   "source": []
  }
 ],
 "metadata": {
  "kernelspec": {
   "display_name": "Python 3",
   "language": "python",
   "name": "python3"
  },
  "language_info": {
   "codemirror_mode": {
    "name": "ipython",
    "version": 3
   },
   "file_extension": ".py",
   "mimetype": "text/x-python",
   "name": "python",
   "nbconvert_exporter": "python",
   "pygments_lexer": "ipython3",
   "version": "3.7.8"
  }
 },
 "nbformat": 4,
 "nbformat_minor": 4
}
